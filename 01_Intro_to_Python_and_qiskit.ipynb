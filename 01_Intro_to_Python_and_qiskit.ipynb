{
 "cells": [
  {
   "cell_type": "markdown",
   "id": "radical-section",
   "metadata": {},
   "source": [
    "# Quantum Computing: Lab 1\n",
    "\n",
    "In this first Lab we want to show you the basics of Python and Jupyter Notebooks needed for this Lecture. Afterwards, we want to writing our first circuits in qiskit and run them on the simulator and on a real device.\n",
    "\n",
    "## Jupyter Notebooks\n",
    "\n",
    "- this is an interactive Python environment\n",
    "- each notebook contain cells\n",
    "- each cell can contain Markdown (like this one) or Code, you can change this using the dropdown menu\n",
    "- you can edit Markdown cells via double click or with `enter`\n",
    "- each cell is executed on its own (all cells in one notebook share variables and states), thus the order of execution matters\n",
    "- you can execute cells either with the play button, `ctrl + enter` or `shift + enter` (executes the cell and jumps to the next line or creates a new one)\n",
    "- each Jupyter instance runs in its own container, user data is persisted, additional packages are not\n",
    "- with `!` you can execute command-line commands from within a cell\n",
    "- with `!pip install <package>` you can temporary install additional packages into your environment\n",
    "- an hour after closing the browser window additional packages are removed, so runing this command at the begining of your notebook is recommended\n",
    "\n",
    "## Python\n",
    "\n",
    "- Python is an object oriented programming language, however we don't have to define classes and create objects if we don't want to (most of the time we won't use classes or objects)\n",
    "- Python uses tabs and `:` instead of curly bracers (`{` or `}`) and semi-colons (`;`)\n",
    "- the keyword for defining a function is `def`"
   ]
  },
  {
   "cell_type": "code",
   "execution_count": 1,
   "id": "wired-married",
   "metadata": {},
   "outputs": [],
   "source": [
    "def hello_world():\n",
    "    print('Hello World!')\n",
    "    \n",
    "def round_digit(x):\n",
    "    if x < 0:\n",
    "        print('Error')\n",
    "    elif x < 5:\n",
    "        print(0)\n",
    "    else:\n",
    "        print(10)"
   ]
  },
  {
   "cell_type": "code",
   "execution_count": 2,
   "id": "historic-calgary",
   "metadata": {},
   "outputs": [
    {
     "name": "stdout",
     "output_type": "stream",
     "text": [
      "Hello World!\n"
     ]
    }
   ],
   "source": [
    "hello_world()"
   ]
  },
  {
   "cell_type": "code",
   "execution_count": 3,
   "id": "seventh-ministry",
   "metadata": {},
   "outputs": [
    {
     "name": "stdout",
     "output_type": "stream",
     "text": [
      "Error\n",
      "0\n",
      "10\n"
     ]
    }
   ],
   "source": [
    "round_digit(-2)\n",
    "round_digit(4)\n",
    "round_digit(5)"
   ]
  },
  {
   "cell_type": "markdown",
   "id": "known-agenda",
   "metadata": {},
   "source": [
    "- most of Pythons functionality needs to be imported first using `import`"
   ]
  },
  {
   "cell_type": "code",
   "execution_count": 4,
   "id": "universal-cuisine",
   "metadata": {},
   "outputs": [],
   "source": [
    "import os\n",
    "import numpy as np\n",
    "from qiskit.aqua import QuantumInstance"
   ]
  },
  {
   "cell_type": "code",
   "execution_count": 5,
   "id": "moral-accountability",
   "metadata": {},
   "outputs": [
    {
     "data": {
      "text/plain": [
       "1.4142135623730951"
      ]
     },
     "execution_count": 5,
     "metadata": {},
     "output_type": "execute_result"
    }
   ],
   "source": [
    "np.sqrt(2) # the result is printed, since its the last statement in this cell"
   ]
  },
  {
   "cell_type": "markdown",
   "id": "outside-archive",
   "metadata": {},
   "source": [
    "## Quantum Computing using Matrix Calculation\n",
    "\n",
    "- we can use numpy's arrays to create matrices and vectors \n",
    "- a column vector is actually a matrix from numpy's perspective, you will see why\n",
    "- we will use `kron` for the tensor product and `matmul` for matrix multiplication"
   ]
  },
  {
   "cell_type": "code",
   "execution_count": 6,
   "id": "regulated-operation",
   "metadata": {},
   "outputs": [
    {
     "name": "stdout",
     "output_type": "stream",
     "text": [
      "[[1]\n",
      " [0]]\n"
     ]
    }
   ],
   "source": [
    "zero_qubit = np.array([[1], [0]])\n",
    "print(zero_qubit)"
   ]
  },
  {
   "cell_type": "code",
   "execution_count": 7,
   "id": "marine-baghdad",
   "metadata": {},
   "outputs": [
    {
     "name": "stdout",
     "output_type": "stream",
     "text": [
      "[[0]\n",
      " [1]]\n"
     ]
    }
   ],
   "source": [
    "one_qubit = np.array([[0], [1]])\n",
    "print(one_qubit)"
   ]
  },
  {
   "cell_type": "code",
   "execution_count": 8,
   "id": "solved-preference",
   "metadata": {},
   "outputs": [
    {
     "name": "stdout",
     "output_type": "stream",
     "text": [
      "[[0]\n",
      " [0]\n",
      " [0]\n",
      " [1]]\n"
     ]
    }
   ],
   "source": [
    "one_one = np.kron(one_qubit, one_qubit)\n",
    "print(one_one)"
   ]
  },
  {
   "cell_type": "code",
   "execution_count": 9,
   "id": "coral-michigan",
   "metadata": {},
   "outputs": [
    {
     "name": "stdout",
     "output_type": "stream",
     "text": [
      "[[ 0.70710678  0.70710678]\n",
      " [ 0.70710678 -0.70710678]]\n"
     ]
    }
   ],
   "source": [
    "H = np.array([[1/np.sqrt(2), 1/np.sqrt(2)], [1/np.sqrt(2), -1/np.sqrt(2)]])\n",
    "print(H)"
   ]
  },
  {
   "cell_type": "markdown",
   "id": "brutal-rubber",
   "metadata": {},
   "source": [
    "In the next cell we want to calculate the result of the following circuit:\n",
    "\n",
    "![](./resources/circuit-H.png)\n",
    "\n",
    "Remember, that we have to start from the right."
   ]
  },
  {
   "cell_type": "code",
   "execution_count": 10,
   "id": "horizontal-planet",
   "metadata": {},
   "outputs": [
    {
     "data": {
      "text/plain": [
       "array([[0.70710678],\n",
       "       [0.70710678]])"
      ]
     },
     "execution_count": 10,
     "metadata": {},
     "output_type": "execute_result"
    }
   ],
   "source": [
    "np.matmul(H, zero_qubit)"
   ]
  },
  {
   "cell_type": "markdown",
   "id": "arranged-whale",
   "metadata": {},
   "source": [
    "As you might remember from the lecture each entry in the vector is an amplitude. To get the probability we have to square each entry. To do so we define the following function."
   ]
  },
  {
   "cell_type": "code",
   "execution_count": 11,
   "id": "violent-penetration",
   "metadata": {},
   "outputs": [],
   "source": [
    "def print_vector_probabilities(vec):\n",
    "    for i in range(len(vec)):\n",
    "        print(str(i) + ': ' + str(np.absolute(vec[i][0]) ** 2))"
   ]
  },
  {
   "cell_type": "code",
   "execution_count": 12,
   "id": "colored-preserve",
   "metadata": {},
   "outputs": [
    {
     "name": "stdout",
     "output_type": "stream",
     "text": [
      "0: 0.4999999999999999\n",
      "1: 0.4999999999999999\n"
     ]
    }
   ],
   "source": [
    "print_vector_probabilities(np.matmul(H, one_qubit))"
   ]
  },
  {
   "cell_type": "code",
   "execution_count": 13,
   "id": "advised-discrimination",
   "metadata": {},
   "outputs": [
    {
     "name": "stdout",
     "output_type": "stream",
     "text": [
      "0: 0\n",
      "1: 0\n",
      "2: 0\n",
      "3: 1\n"
     ]
    }
   ],
   "source": [
    "print_vector_probabilities(one_one)"
   ]
  },
  {
   "cell_type": "markdown",
   "id": "conditional-lecture",
   "metadata": {},
   "source": [
    "Since we are able to create quantum states manually, it might be useful to have function which checks if we have created a valid quantum state.\n",
    "\n",
    "__Exercise 1__: Complete the function and test it with a valid and an invalid quantum state."
   ]
  },
  {
   "cell_type": "code",
   "execution_count": 14,
   "id": "naval-heaven",
   "metadata": {},
   "outputs": [],
   "source": [
    "def is_quantum_state(psi: np.array):\n",
    "    n = len(psi)\n",
    "    ssum = 0.0\n",
    "    \n",
    "    # Add your calculation here\n",
    "    \n",
    "    if round(ssum) == 1:\n",
    "        return True\n",
    "    else:\n",
    "        return False"
   ]
  },
  {
   "cell_type": "code",
   "execution_count": 15,
   "id": "unexpected-columbus",
   "metadata": {},
   "outputs": [
    {
     "data": {
      "text/plain": [
       "False"
      ]
     },
     "execution_count": 15,
     "metadata": {},
     "output_type": "execute_result"
    }
   ],
   "source": [
    "is_quantum_state(np.matmul(H, one_qubit))"
   ]
  },
  {
   "cell_type": "markdown",
   "id": "rural-trail",
   "metadata": {},
   "source": [
    "## Qiskit\n",
    "\n",
    "In the next section we want to work with qiskit. Qiskit is a SDK for IBMs quantum devices, however you can also use local and hosted simulators. Furhter, alternative quantum device providers start to support qiskit for their devices as well.\n",
    "\n",
    "For a first small example, we want to add a X-Gate to a circuit and measure it. Here are a couple of hints how we are going to implement this:\n",
    "\n",
    "- we use a `QuantumRegister` and a `ClassicalRegister` to create a `QuantumCircuit`, however the registers are not necessary, as you will see later\n",
    "- we add a X-Gate to the circuit on the first qubit of the quantum register\n",
    "- (optional) we draw the circuit to see how it looks, `'mpl'` stands for matplotlib\n",
    "- we measure qubit zero to classical bit zero, we will see later an alternative method\n",
    "- we execute the circuit on a backend, which we defined earlier; this returns a job\n",
    "- we receive the result of the job (calling the `result` method starts the job)\n",
    "- we receive the counts\n",
    "- we use qiskits own method to print a histogram of the results"
   ]
  },
  {
   "cell_type": "code",
   "execution_count": 16,
   "id": "adjusted-stations",
   "metadata": {},
   "outputs": [
    {
     "data": {
      "image/png": "[encoded data removed]",
      "text/plain": [
       "<Figure size 146.507x144.48 with 1 Axes>"
      ]
     },
     "execution_count": 16,
     "metadata": {},
     "output_type": "execute_result"
    }
   ],
   "source": [
    "%matplotlib inline\n",
    "\n",
    "from qiskit import QuantumCircuit, ClassicalRegister, QuantumRegister\n",
    "from qiskit import execute\n",
    "from qiskit import BasicAer\n",
    "from qiskit.tools.visualization import plot_histogram, plot_bloch_multivector\n",
    "\n",
    "backend = BasicAer.get_backend('qasm_simulator')\n",
    "\n",
    "q = QuantumRegister(1)\n",
    "c = ClassicalRegister(1)\n",
    "circuit = QuantumCircuit(q, c)\n",
    "circuit.x(q[0])\n",
    "\n",
    "circuit.draw('mpl')"
   ]
  },
  {
   "cell_type": "code",
   "execution_count": 17,
   "id": "august-journal",
   "metadata": {},
   "outputs": [
    {
     "data": {
      "image/png": "[encoded data removed]",
      "text/plain": [
       "<Figure size 206.707x144.48 with 1 Axes>"
      ]
     },
     "execution_count": 17,
     "metadata": {},
     "output_type": "execute_result"
    }
   ],
   "source": [
    "circuit.measure(q[0], c[0])\n",
    "circuit.draw('mpl')"
   ]
  },
  {
   "cell_type": "code",
   "execution_count": 18,
   "id": "subsequent-roller",
   "metadata": {},
   "outputs": [],
   "source": [
    "job = execute(circuit, backend, shots=1024)"
   ]
  },
  {
   "cell_type": "code",
   "execution_count": 19,
   "id": "imposed-musician",
   "metadata": {},
   "outputs": [
    {
     "data": {
      "text/plain": [
       "{'1': 1024}"
      ]
     },
     "execution_count": 19,
     "metadata": {},
     "output_type": "execute_result"
    }
   ],
   "source": [
    "result = job.result()\n",
    "result.get_counts(circuit)"
   ]
  },
  {
   "cell_type": "code",
   "execution_count": 20,
   "id": "spanish-strap",
   "metadata": {},
   "outputs": [
    {
     "data": {
      "image/png": "[encoded data removed]",
      "text/plain": [
       "<Figure size 504x360 with 1 Axes>"
      ]
     },
     "execution_count": 20,
     "metadata": {},
     "output_type": "execute_result"
    }
   ],
   "source": [
    "plot_histogram(result.get_counts(circuit))"
   ]
  },
  {
   "cell_type": "markdown",
   "id": "specified-journalist",
   "metadata": {},
   "source": [
    "### Bell-State with Qiskit\n",
    "\n",
    "In the next advanced example we want to use 2 quibts and also use 2-qubit-gates to create the bell state. Here are some hints how we did this:\n",
    "\n",
    "- we create a `QuantumCircuit`, the 2 indicates, that we want to have 2 qubits\n",
    "- we add an Hadamard-Gate to qubit zero\n",
    "- we add an CNOT-Gate to the circuit with the control qubit zero and target qubit one\n",
    "- we use the `measure_all` method, to measure all qubits to classical bits\n",
    "- we execute the circuit and plot the histogram"
   ]
  },
  {
   "cell_type": "code",
   "execution_count": 21,
   "id": "precious-situation",
   "metadata": {},
   "outputs": [
    {
     "data": {
      "image/png": "[encoded data removed]",
      "text/plain": [
       "<Figure size 206.852x144.48 with 1 Axes>"
      ]
     },
     "execution_count": 21,
     "metadata": {},
     "output_type": "execute_result"
    }
   ],
   "source": [
    "bell_circuit = QuantumCircuit(2)\n",
    "bell_circuit.h(0)\n",
    "bell_circuit.cnot(0, 1)\n",
    "\n",
    "bell_circuit.draw('mpl')"
   ]
  },
  {
   "cell_type": "code",
   "execution_count": 22,
   "id": "aggregate-boards",
   "metadata": {},
   "outputs": [
    {
     "data": {
      "image/png": "[encoded data removed]",
      "text/plain": [
       "<Figure size 417.879x204.68 with 1 Axes>"
      ]
     },
     "execution_count": 22,
     "metadata": {},
     "output_type": "execute_result"
    }
   ],
   "source": [
    "bell_circuit.measure_all()\n",
    "bell_circuit.draw('mpl')"
   ]
  },
  {
   "cell_type": "code",
   "execution_count": 23,
   "id": "architectural-invitation",
   "metadata": {},
   "outputs": [
    {
     "data": {
      "image/png": "[encoded data removed]",
      "text/plain": [
       "<Figure size 504x360 with 1 Axes>"
      ]
     },
     "execution_count": 23,
     "metadata": {},
     "output_type": "execute_result"
    }
   ],
   "source": [
    "job = execute(bell_circuit, backend, shots=1024)\n",
    "bell_result = job.result()\n",
    "plot_histogram(bell_result.get_counts(bell_circuit))"
   ]
  },
  {
   "cell_type": "markdown",
   "id": "backed-toolbox",
   "metadata": {},
   "source": [
    "![](./resources/circuit-deutsch.png)\n",
    "\n",
    "__Exercise 2:__ Implement and execute the algorithm of Deutsch for the balanced and for the unbalanced case in qiskit. See above for a graphical visualisation of the algorithm. Remember the 'plus' is a X-Gate and the barriers in this example are only for visual support so you don't have to implement them."
   ]
  },
  {
   "cell_type": "code",
   "execution_count": 24,
   "id": "colored-inventory",
   "metadata": {},
   "outputs": [],
   "source": [
    "# Your code goes here"
   ]
  },
  {
   "cell_type": "markdown",
   "id": "figured-realtor",
   "metadata": {},
   "source": [
    "### Working with real quantum devices\n",
    "\n",
    "If you want to run your circuits on real hardware you need to store your IBM Q Experience API-Token in your pyhton environment (the registration is free). To do so visit https://quantum-computing.ibm.com/account and click the blue button 'Copy token' as shown in the following picture: \n",
    "\n",
    "![](./resources/ibmqtoken.jpg)\n",
    "\n",
    "With this token you can execute the following method `IBMQ.save_account('<API-Token>', overwrite=True)` (imported from qiskit). You have to run this method every time in a python environement, when your token has changed.\n",
    "\n",
    "After saving your account you have to load it everytime at the beginning of your program/jupyer notebook: `IBMQ.load_account()`.\n",
    "\n",
    "Next, you specify your provider. For a free account it will look like this: `provider = IBMQ.get_provider(hub='ibm-q', group='open', project='main')`\n",
    "\n",
    "The `provider` provides you with your backends. `provider.backends()` lists all of your backends."
   ]
  },
  {
   "cell_type": "code",
   "execution_count": 25,
   "id": "expressed-colors",
   "metadata": {},
   "outputs": [],
   "source": [
    "from qiskit import *\n",
    "\n",
    "# IBMQ.save_account('<API-Token>', hub='ibm-q', group='open', project='main', overwrite=True)"
   ]
  },
  {
   "cell_type": "code",
   "execution_count": 26,
   "id": "solid-valentine",
   "metadata": {},
   "outputs": [
    {
     "data": {
      "text/plain": [
       "[<IBMQSimulator('ibmq_qasm_simulator') from IBMQ(hub='ibm-q', group='open', project='main')>,\n",
       " <IBMQBackend('ibmqx2') from IBMQ(hub='ibm-q', group='open', project='main')>,\n",
       " <IBMQBackend('ibmq_16_melbourne') from IBMQ(hub='ibm-q', group='open', project='main')>,\n",
       " <IBMQBackend('ibmq_armonk') from IBMQ(hub='ibm-q', group='open', project='main')>,\n",
       " <IBMQBackend('ibmq_athens') from IBMQ(hub='ibm-q', group='open', project='main')>,\n",
       " <IBMQBackend('ibmq_santiago') from IBMQ(hub='ibm-q', group='open', project='main')>,\n",
       " <IBMQBackend('ibmq_lima') from IBMQ(hub='ibm-q', group='open', project='main')>,\n",
       " <IBMQBackend('ibmq_belem') from IBMQ(hub='ibm-q', group='open', project='main')>,\n",
       " <IBMQBackend('ibmq_quito') from IBMQ(hub='ibm-q', group='open', project='main')>,\n",
       " <IBMQSimulator('simulator_statevector') from IBMQ(hub='ibm-q', group='open', project='main')>,\n",
       " <IBMQSimulator('simulator_mps') from IBMQ(hub='ibm-q', group='open', project='main')>,\n",
       " <IBMQSimulator('simulator_extended_stabilizer') from IBMQ(hub='ibm-q', group='open', project='main')>,\n",
       " <IBMQSimulator('simulator_stabilizer') from IBMQ(hub='ibm-q', group='open', project='main')>]"
      ]
     },
     "execution_count": 26,
     "metadata": {},
     "output_type": "execute_result"
    }
   ],
   "source": [
    "IBMQ.load_account()\n",
    "provider = IBMQ.get_provider(hub='ibm-q', group='open', project='main')\n",
    "\n",
    "provider.backends()"
   ]
  },
  {
   "cell_type": "code",
   "execution_count": 27,
   "id": "excess-andrew",
   "metadata": {},
   "outputs": [],
   "source": [
    "device_backend = provider.backend.ibmq_athens"
   ]
  },
  {
   "cell_type": "markdown",
   "id": "seeing-tomato",
   "metadata": {},
   "source": [
    "### Using noise models\n",
    "\n",
    "Since the execution takes very long, we will primarily use the noise model of a specific backend. Doing so we will get results, which are similar to the results from a real devices."
   ]
  },
  {
   "cell_type": "code",
   "execution_count": 28,
   "id": "transsexual-essex",
   "metadata": {},
   "outputs": [
    {
     "name": "stdout",
     "output_type": "stream",
     "text": [
      "NoiseModel:\n",
      "  Basis gates: ['cx', 'id', 'reset', 'rz', 'sx', 'x']\n",
      "  Instructions with noise: ['id', 'reset', 'sx', 'measure', 'cx', 'x']\n",
      "  Qubits with noise: [0, 1, 2, 3, 4]\n",
      "  Specific qubit errors: [('id', [0]), ('id', [1]), ('id', [2]), ('id', [3]), ('id', [4]), ('sx', [0]), ('sx', [1]), ('sx', [2]), ('sx', [3]), ('sx', [4]), ('x', [0]), ('x', [1]), ('x', [2]), ('x', [3]), ('x', [4]), ('cx', [4, 3]), ('cx', [3, 4]), ('cx', [2, 3]), ('cx', [3, 2]), ('cx', [1, 2]), ('cx', [2, 1]), ('cx', [1, 0]), ('cx', [0, 1]), ('reset', [0]), ('reset', [1]), ('reset', [2]), ('reset', [3]), ('reset', [4]), ('measure', [0]), ('measure', [1]), ('measure', [2]), ('measure', [3]), ('measure', [4])]\n"
     ]
    },
    {
     "data": {
      "image/png": "[encoded data removed]",
      "text/plain": [
       "<Figure size 504x360 with 1 Axes>"
      ]
     },
     "execution_count": 28,
     "metadata": {},
     "output_type": "execute_result"
    }
   ],
   "source": [
    "from qiskit.providers.aer.noise import NoiseModel\n",
    "\n",
    "# The device coupling map is needed for transpiling to correct\n",
    "# CNOT gates before simulation\n",
    "coupling_map = device_backend.configuration().coupling_map\n",
    "\n",
    "# Select the QasmSimulator from the Aer provider\n",
    "simulator = Aer.get_backend('qasm_simulator')\n",
    "\n",
    "# Construct the noise model from backend properties\n",
    "noise_model = NoiseModel.from_backend(device_backend)\n",
    "print(noise_model)\n",
    "\n",
    "# Get the basis gates for the noise model\n",
    "basis_gates = noise_model.basis_gates\n",
    "\n",
    "# Execute noisy simulation and get counts\n",
    "result_noise = execute(bell_circuit, simulator,\n",
    "                       noise_model=noise_model,\n",
    "                       coupling_map=coupling_map,\n",
    "                       basis_gates=basis_gates).result()\n",
    "counts_noise = result_noise.get_counts(bell_circuit)\n",
    "plot_histogram(counts_noise, title=\"Counts Bell-State with depolarizing noise model\")"
   ]
  },
  {
   "cell_type": "code",
   "execution_count": 29,
   "id": "involved-miracle",
   "metadata": {},
   "outputs": [
    {
     "data": {
      "image/png": "[encoded data removed]",
      "text/plain": [
       "<Figure size 504x360 with 1 Axes>"
      ]
     },
     "execution_count": 29,
     "metadata": {},
     "output_type": "execute_result"
    }
   ],
   "source": [
    "plot_histogram([bell_result.get_counts(bell_circuit), counts_noise], legend=['Simulator', 'Simulator with noise'])"
   ]
  }
 ],
 "metadata": {
  "kernelspec": {
   "display_name": "Python 3",
   "language": "python",
   "name": "python3"
  },
  "language_info": {
   "codemirror_mode": {
    "name": "ipython",
    "version": 3
   },
   "file_extension": ".py",
   "mimetype": "text/x-python",
   "name": "python",
   "nbconvert_exporter": "python",
   "pygments_lexer": "ipython3",
   "version": "3.8.8"
  }
 },
 "nbformat": 4,
 "nbformat_minor": 5
}
