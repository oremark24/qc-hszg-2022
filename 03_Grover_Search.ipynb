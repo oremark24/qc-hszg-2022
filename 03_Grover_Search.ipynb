{
 "cells": [
  {
   "cell_type": "markdown",
   "id": "interstate-dimension",
   "metadata": {},
   "source": [
    "# Quantum Computing: Lab 3\n",
    "\n",
    "## Grover Search\n",
    "\n",
    "In this Lab we will see different ways of implementing Grover's algorithm. Remember, we always start in an equal superposition. Afterwards we have $\\sqrt{N}$ Grover iterations. A Grover iteration consists of an Oracle and the Diffuser. The latter consists of an unitary gate, which muliplies all states but $|0_n\\rangle$ by $-1$, surrounded by Hadamard gates. Here is a schematic representing \n",
    "\n",
    "![Grover Algorithm](resources/grover_circuit_high_level.png)\n",
    "(Source: https://qiskit.org/textbook/ch-algorithms/grover.html)"
   ]
  },
  {
   "cell_type": "markdown",
   "id": "careful-forth",
   "metadata": {},
   "source": [
    "__Exercise 1:__ Create four Circuits with the Hadamards in the beginning and the four different oracles. Try to come up with the right combination of gates for the Oracles from the following set of gates: CZ, CNOT, X, Z. Use the Statevector Simulator to verify that the correct state is marked.\n",
    "\n",
    "Hints: The matrix for CZ is $\\begin{pmatrix}\n",
    "1 & 0 & 0 & 0\\\\\n",
    "0 & 1 & 0 & 0\\\\\n",
    "0 & 0 & 1 & 0\\\\\n",
    "0 & 0 & 0 & -1\\\\\n",
    "\\end{pmatrix}$\n",
    "\n",
    "One of the oracles might seem impossible to create with the given gate set, however focus on giving the state a different sign than the others and not so much on marking the state with a minus one."
   ]
  },
  {
   "cell_type": "code",
   "execution_count": 1,
   "id": "cloudy-blind",
   "metadata": {},
   "outputs": [],
   "source": [
    "%matplotlib inline\n",
    "\n",
    "from qiskit import *\n",
    "from qiskit import QuantumCircuit, ClassicalRegister, QuantumRegister\n",
    "from qiskit import execute\n",
    "from qiskit import BasicAer\n",
    "from qiskit.tools.visualization import plot_histogram, plot_bloch_multivector, plot_state_city\n",
    "\n",
    "from qiskit.providers.aer.noise import NoiseModel\n",
    "\n",
    "import matplotlib.pyplot as plt\n",
    "import numpy as np"
   ]
  },
  {
   "cell_type": "code",
   "execution_count": null,
   "id": "natural-andorra",
   "metadata": {},
   "outputs": [],
   "source": []
  },
  {
   "cell_type": "code",
   "execution_count": 2,
   "id": "different-occasions",
   "metadata": {},
   "outputs": [],
   "source": [
    "# Your code for state |00>"
   ]
  },
  {
   "cell_type": "code",
   "execution_count": 3,
   "id": "disturbed-yorkshire",
   "metadata": {},
   "outputs": [],
   "source": [
    "# Your code for state |01>"
   ]
  },
  {
   "cell_type": "code",
   "execution_count": 4,
   "id": "sporting-arcade",
   "metadata": {},
   "outputs": [],
   "source": [
    "# Your code for state |10>"
   ]
  },
  {
   "cell_type": "code",
   "execution_count": 5,
   "id": "surgical-treatment",
   "metadata": {},
   "outputs": [],
   "source": [
    "# Your code for state |11>"
   ]
  },
  {
   "cell_type": "markdown",
   "id": "ongoing-macintosh",
   "metadata": {},
   "source": [
    "__Exercise 2:__ Finish the circuits of _Exercise 1_ with the Diffuser. Again simulate all circuits with the statevector simulator. Is something cathing your eye?"
   ]
  },
  {
   "cell_type": "code",
   "execution_count": null,
   "id": "postal-occupation",
   "metadata": {},
   "outputs": [],
   "source": []
  },
  {
   "cell_type": "code",
   "execution_count": null,
   "id": "boxed-medline",
   "metadata": {},
   "outputs": [],
   "source": []
  },
  {
   "cell_type": "code",
   "execution_count": null,
   "id": "fifth-consideration",
   "metadata": {},
   "outputs": [],
   "source": []
  },
  {
   "cell_type": "code",
   "execution_count": null,
   "id": "particular-constraint",
   "metadata": {},
   "outputs": [],
   "source": []
  },
  {
   "cell_type": "markdown",
   "id": "stable-exemption",
   "metadata": {},
   "source": [
    "__Exercise 3__: Use the `UnitaryGate` from last lecture to create a Grover circuit for finding the state 110. Run the complete circuit for 1 to 4 iterations on the qasm simulator. How many Grover Iterations do we need?"
   ]
  },
  {
   "cell_type": "code",
   "execution_count": null,
   "id": "cardiovascular-application",
   "metadata": {},
   "outputs": [],
   "source": []
  },
  {
   "cell_type": "code",
   "execution_count": null,
   "id": "naval-spell",
   "metadata": {},
   "outputs": [],
   "source": []
  },
  {
   "cell_type": "code",
   "execution_count": null,
   "id": "boxed-shirt",
   "metadata": {},
   "outputs": [],
   "source": []
  },
  {
   "cell_type": "code",
   "execution_count": null,
   "id": "brief-works",
   "metadata": {},
   "outputs": [],
   "source": []
  },
  {
   "cell_type": "code",
   "execution_count": null,
   "id": "elementary-screening",
   "metadata": {},
   "outputs": [],
   "source": []
  },
  {
   "cell_type": "markdown",
   "id": "operating-wonder",
   "metadata": {},
   "source": [
    "__Exercise 4:__ Run the best performing $|110\\rangle$ circuit in the qasm simulator while simulating `ibmq_athens` and compare it to the results without the noise model."
   ]
  },
  {
   "cell_type": "code",
   "execution_count": null,
   "id": "recreational-session",
   "metadata": {},
   "outputs": [],
   "source": []
  },
  {
   "cell_type": "markdown",
   "id": "brave-petroleum",
   "metadata": {},
   "source": [
    "__Exercise 5:__ What would be the maximum amount of marked states for 3 qubits and how many iterations would we need? (Solve this experimentally!) Then compare the best solution again with a noisy simulation."
   ]
  },
  {
   "cell_type": "code",
   "execution_count": null,
   "id": "cardiovascular-device",
   "metadata": {},
   "outputs": [],
   "source": []
  },
  {
   "cell_type": "code",
   "execution_count": null,
   "id": "coordinated-talent",
   "metadata": {},
   "outputs": [],
   "source": []
  },
  {
   "cell_type": "code",
   "execution_count": null,
   "id": "warming-kruger",
   "metadata": {},
   "outputs": [],
   "source": []
  },
  {
   "cell_type": "code",
   "execution_count": null,
   "id": "bulgarian-reproduction",
   "metadata": {},
   "outputs": [],
   "source": []
  },
  {
   "cell_type": "code",
   "execution_count": null,
   "id": "canadian-bangladesh",
   "metadata": {},
   "outputs": [],
   "source": []
  },
  {
   "cell_type": "markdown",
   "id": "studied-brighton",
   "metadata": {},
   "source": [
    "Marking more than one state (i.e. an unknown number of states) and experimentally finding the solution is part of Grover Adaptive Search (https://arxiv.org/abs/1912.04088). This together with Quantum Dictionaries (https://arxiv.org/abs/1907.11513) gives us a first algorithm to solve combinatorial optimization problems. However, as you have seen in the last exercise, this algorithm isn't good on current quantum devices. Thus we will see better performing algorithms in Lab 5."
   ]
  }
 ],
 "metadata": {
  "kernelspec": {
   "display_name": "Python 3",
   "language": "python",
   "name": "python3"
  },
  "language_info": {
   "codemirror_mode": {
    "name": "ipython",
    "version": 3
   },
   "file_extension": ".py",
   "mimetype": "text/x-python",
   "name": "python",
   "nbconvert_exporter": "python",
   "pygments_lexer": "ipython3",
   "version": "3.8.8"
  }
 },
 "nbformat": 4,
 "nbformat_minor": 5
}
