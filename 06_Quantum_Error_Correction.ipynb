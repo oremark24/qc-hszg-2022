{
 "cells": [
  {
   "cell_type": "markdown",
   "id": "aquatic-prophet",
   "metadata": {},
   "source": [
    "# Quantum Computing: Lab 6\n",
    "\n",
    "## Quantum Error Correction\n",
    "\n",
    "__Exercise 1:__ Create a gate to prepare the following state: $|\\psi\\rangle = \\sqrt{3/4} |0\\rangle + \\sqrt{1/4} i |1\\rangle$"
   ]
  },
  {
   "cell_type": "code",
   "execution_count": null,
   "id": "charged-gauge",
   "metadata": {},
   "outputs": [],
   "source": []
  },
  {
   "cell_type": "markdown",
   "id": "recovered-authorization",
   "metadata": {},
   "source": [
    "__Exercise 2:__ Implement the 3-Qubit Code for Bit-Error Correction. Initialize the circuit with $|\\psi\\rangle$ from Ex. 1 and test if the Bit-Error Correction works."
   ]
  },
  {
   "cell_type": "code",
   "execution_count": null,
   "id": "fitting-carbon",
   "metadata": {},
   "outputs": [],
   "source": []
  },
  {
   "cell_type": "markdown",
   "id": "finnish-redhead",
   "metadata": {},
   "source": [
    "__Exercise 3:__ Implement the 3-Qubit Code for Phase-Error Correction. Initialize the circuit with $|\\psi\\rangle$ from Ex. 1 and test if the Phase-Error Correction works."
   ]
  },
  {
   "cell_type": "code",
   "execution_count": null,
   "id": "running-browser",
   "metadata": {},
   "outputs": [],
   "source": []
  },
  {
   "cell_type": "markdown",
   "id": "democratic-coordination",
   "metadata": {},
   "source": [
    "__Exercise 4:__ Implement Shor's 9-Qubit Code. Initialize the circuit with $|\\psi\\rangle$ from Ex. 1 and test if the Bit-Error and Phase-Error Correction works."
   ]
  },
  {
   "cell_type": "code",
   "execution_count": null,
   "id": "skilled-luxury",
   "metadata": {},
   "outputs": [],
   "source": []
  }
 ],
 "metadata": {
  "kernelspec": {
   "display_name": "Python 3 (ipykernel)",
   "language": "python",
   "name": "python3"
  },
  "language_info": {
   "codemirror_mode": {
    "name": "ipython",
    "version": 3
   },
   "file_extension": ".py",
   "mimetype": "text/x-python",
   "name": "python",
   "nbconvert_exporter": "python",
   "pygments_lexer": "ipython3",
   "version": "3.9.7"
  }
 },
 "nbformat": 4,
 "nbformat_minor": 5
}
